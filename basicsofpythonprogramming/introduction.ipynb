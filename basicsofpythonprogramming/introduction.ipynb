{
 "cells": [
  {
   "cell_type": "markdown",
   "metadata": {},
   "source": [
    "# **introduction to python programming**"
   ]
  },
  {
   "cell_type": "code",
   "execution_count": 9,
   "metadata": {},
   "outputs": [
    {
     "name": "stdout",
     "output_type": "stream",
     "text": [
      "<class 'str'>\n"
     ]
    }
   ],
   "source": [
    "#variable Assignment\n",
    "number= 100\n",
    "number1 = 100.20\n",
    "str = 'Hello World'\n",
    "\n",
    "num ='1234'\n",
    "num1,num2,num3 = 10,20,30\n",
    "\n",
    "print(type(num))\n"
   ]
  },
  {
   "cell_type": "code",
   "execution_count": 3,
   "metadata": {},
   "outputs": [],
   "source": [
    "number =2000"
   ]
  },
  {
   "cell_type": "code",
   "execution_count": 4,
   "metadata": {},
   "outputs": [
    {
     "data": {
      "text/plain": [
       "2000"
      ]
     },
     "execution_count": 4,
     "metadata": {},
     "output_type": "execute_result"
    }
   ],
   "source": [
    "number "
   ]
  },
  {
   "cell_type": "code",
   "execution_count": 5,
   "metadata": {},
   "outputs": [
    {
     "name": "stdout",
     "output_type": "stream",
     "text": [
      "2000\n"
     ]
    }
   ],
   "source": [
    "print(number)"
   ]
  },
  {
   "cell_type": "code",
   "execution_count": 8,
   "metadata": {},
   "outputs": [
    {
     "name": "stdout",
     "output_type": "stream",
     "text": [
      "<class 'int'>\n",
      "<class 'float'>\n",
      "<class 'str'>\n"
     ]
    }
   ],
   "source": [
    "#checking datatype  \n",
    "print (type (number))\n",
    "print(type(number1))\n",
    "print(type(str))"
   ]
  },
  {
   "cell_type": "code",
   "execution_count": 10,
   "metadata": {},
   "outputs": [],
   "source": [
    "num1,num2,num3,_ = 100,200,300,400"
   ]
  },
  {
   "cell_type": "code",
   "execution_count": 12,
   "metadata": {},
   "outputs": [],
   "source": [
    "nu1,nu2,nu3 = 100,200,_"
   ]
  },
  {
   "cell_type": "code",
   "execution_count": 15,
   "metadata": {},
   "outputs": [
    {
     "ename": "SyntaxError",
     "evalue": "invalid syntax (3139760304.py, line 1)",
     "output_type": "error",
     "traceback": [
      "\u001b[1;36m  Cell \u001b[1;32mIn[15], line 1\u001b[1;36m\u001b[0m\n\u001b[1;33m    n1,n2,n3,$ =100,200,300,400\u001b[0m\n\u001b[1;37m             ^\u001b[0m\n\u001b[1;31mSyntaxError\u001b[0m\u001b[1;31m:\u001b[0m invalid syntax\n"
     ]
    }
   ],
   "source": [
    "n1,n2,n3,$ =100,200,300,400"
   ]
  },
  {
   "cell_type": "code",
   "execution_count": 16,
   "metadata": {},
   "outputs": [
    {
     "name": "stdout",
     "output_type": "stream",
     "text": [
      "the variable name number is  100\n"
     ]
    }
   ],
   "source": [
    "print('the variable name number is ',number)"
   ]
  },
  {
   "cell_type": "code",
   "execution_count": 18,
   "metadata": {},
   "outputs": [
    {
     "name": "stdout",
     "output_type": "stream",
     "text": [
      "the addition of number1 and number2 is 3000\n"
     ]
    }
   ],
   "source": [
    "number1 = 1000\n",
    "number2 = 2000\n",
    "\n",
    "number3= number1+ number2\n",
    "print('the addition of number1 and number2 is',number3)"
   ]
  },
  {
   "cell_type": "code",
   "execution_count": 20,
   "metadata": {},
   "outputs": [
    {
     "name": "stdout",
     "output_type": "stream",
     "text": [
      "the substraction of number1 and number2 is -1000\n"
     ]
    }
   ],
   "source": [
    "number1 = 1000\n",
    "number2 = 2000\n",
    "\n",
    "number3= number1-number2\n",
    "print('the substraction of number1 and number2 is',number3)"
   ]
  },
  {
   "cell_type": "code",
   "execution_count": 21,
   "metadata": {},
   "outputs": [
    {
     "name": "stdout",
     "output_type": "stream",
     "text": [
      "the multiplication of number1 and number2 is 2000000\n"
     ]
    }
   ],
   "source": [
    "number1 = 1000\n",
    "number2 = 2000\n",
    "number3 = number1 * number2\n",
    "\n",
    "\n",
    "print('the multiplication of number1 and number2 is',number3)"
   ]
  },
  {
   "cell_type": "code",
   "execution_count": null,
   "metadata": {},
   "outputs": [
    {
     "name": "stdout",
     "output_type": "stream",
     "text": [
      "the division of number1 and number2 is 2.0\n"
     ]
    }
   ],
   "source": [
    "number1= 1000\n",
    "number2 =2000 \n",
    "\n",
    "number3 = number2/number1 \n",
    "print('the division of number1 and number2 is',number3)"
   ]
  },
  {
   "cell_type": "code",
   "execution_count": 23,
   "metadata": {},
   "outputs": [
    {
     "name": "stdout",
     "output_type": "stream",
     "text": [
      "the division of number1 and number2 is 2\n"
     ]
    }
   ],
   "source": [
    "number1= 1000\n",
    "number2 =2000 \n",
    "\n",
    "number3 = number2//number1 \n",
    "print('the division of number1 and number2 is',number3)\n",
    "\n"
   ]
  },
  {
   "cell_type": "code",
   "execution_count": 27,
   "metadata": {},
   "outputs": [
    {
     "name": "stdout",
     "output_type": "stream",
     "text": [
      "addition of num and num1: 12341234\n"
     ]
    }
   ],
   "source": [
    "num = 2\n",
    "num1 = '1234'\n",
    "\n",
    "print('addition of num and num1:',(num*num1))"
   ]
  },
  {
   "cell_type": "code",
   "execution_count": null,
   "metadata": {},
   "outputs": [],
   "source": []
  }
 ],
 "metadata": {
  "kernelspec": {
   "display_name": "base",
   "language": "python",
   "name": "python3"
  },
  "language_info": {
   "codemirror_mode": {
    "name": "ipython",
    "version": 3
   },
   "file_extension": ".py",
   "mimetype": "text/x-python",
   "name": "python",
   "nbconvert_exporter": "python",
   "pygments_lexer": "ipython3",
   "version": "3.12.7"
  }
 },
 "nbformat": 4,
 "nbformat_minor": 2
}
